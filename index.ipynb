{
 "cells": [
  {
   "cell_type": "markdown",
   "metadata": {},
   "source": [
    "# The Jester Dataset"
   ]
  },
  {
   "cell_type": "markdown",
   "metadata": {},
   "source": [
    "![](https://vignette.wikia.nocookie.net/helmet-heroes/images/9/9b/Jester_Hat.png/revision/latest/scale-to-width-down/340?cb=20131023213944)"
   ]
  },
  {
   "cell_type": "markdown",
   "metadata": {},
   "source": [
    "This morning we will be building a recommendation system using User ratings of jokes.\n",
    "\n",
    "By the end of this notebook, we will know how to \n",
    "- Format data for user:user recommendation\n",
    "- Find the cosign similarity between two vectors\n",
    "- Use K Nearest Neighbor to indentify vector similarity\n",
    "- Filter a dataframe to identify the highest rated joke based on K most similar users."
   ]
  },
  {
   "cell_type": "code",
   "execution_count": 1,
   "metadata": {
    "ExecuteTime": {
     "end_time": "2020-07-20T16:31:47.593971Z",
     "start_time": "2020-07-20T16:31:45.775051Z"
    }
   },
   "outputs": [],
   "source": [
    "import pandas as pd\n",
    "import numpy as np\n",
    "\n",
    "from sklearn.neighbors import NearestNeighbors\n",
    "from sklearn.metrics.pairwise import cosine_similarity, cosine_distances\n",
    "\n",
    "\n",
    "import matplotlib.pyplot as plt\n",
    "import seaborn as sns\n",
    "\n",
    "import warnings\n",
    "warnings.filterwarnings(\"ignore\")"
   ]
  },
  {
   "cell_type": "markdown",
   "metadata": {},
   "source": [
    "### About user data\n",
    "Format:\n",
    "\n",
    "- Ratings are real values ranging from -10.00 to +10.00 (the value \"99\" corresponds to \"null\" = \"not rated\").\n",
    "- One row per user\n",
    "- The first column gives the number of jokes rated by that user. The next 100 columns give the ratings for jokes 01 - 100.\n",
    "- The sub-matrix including only columns {5, 7, 8, 13, 15, 16, 17, 18, 19, 20} is dense. Almost all users have rated those jokes.\n"
   ]
  },
  {
   "cell_type": "code",
   "execution_count": 2,
   "metadata": {
    "ExecuteTime": {
     "end_time": "2020-07-20T16:31:50.870673Z",
     "start_time": "2020-07-20T16:31:50.130150Z"
    }
   },
   "outputs": [],
   "source": [
    "df = pd.read_csv('./data/jesterfinal151cols.csv', header=None)\n",
    "df = df.fillna(99)"
   ]
  },
  {
   "cell_type": "code",
   "execution_count": 3,
   "metadata": {
    "ExecuteTime": {
     "end_time": "2020-07-20T16:31:55.376120Z",
     "start_time": "2020-07-20T16:31:55.352639Z"
    }
   },
   "outputs": [
    {
     "data": {
      "text/html": [
       "<div>\n",
       "<style scoped>\n",
       "    .dataframe tbody tr th:only-of-type {\n",
       "        vertical-align: middle;\n",
       "    }\n",
       "\n",
       "    .dataframe tbody tr th {\n",
       "        vertical-align: top;\n",
       "    }\n",
       "\n",
       "    .dataframe thead th {\n",
       "        text-align: right;\n",
       "    }\n",
       "</style>\n",
       "<table border=\"1\" class=\"dataframe\">\n",
       "  <thead>\n",
       "    <tr style=\"text-align: right;\">\n",
       "      <th></th>\n",
       "      <th>0</th>\n",
       "      <th>1</th>\n",
       "      <th>2</th>\n",
       "      <th>3</th>\n",
       "      <th>4</th>\n",
       "      <th>5</th>\n",
       "      <th>6</th>\n",
       "      <th>7</th>\n",
       "      <th>8</th>\n",
       "      <th>9</th>\n",
       "      <th>...</th>\n",
       "      <th>141</th>\n",
       "      <th>142</th>\n",
       "      <th>143</th>\n",
       "      <th>144</th>\n",
       "      <th>145</th>\n",
       "      <th>146</th>\n",
       "      <th>147</th>\n",
       "      <th>148</th>\n",
       "      <th>149</th>\n",
       "      <th>150</th>\n",
       "    </tr>\n",
       "  </thead>\n",
       "  <tbody>\n",
       "    <tr>\n",
       "      <td>0</td>\n",
       "      <td>62</td>\n",
       "      <td>99</td>\n",
       "      <td>99</td>\n",
       "      <td>99</td>\n",
       "      <td>99</td>\n",
       "      <td>0.21875</td>\n",
       "      <td>99</td>\n",
       "      <td>-9.28125</td>\n",
       "      <td>-9.28125</td>\n",
       "      <td>99</td>\n",
       "      <td>...</td>\n",
       "      <td>99.0</td>\n",
       "      <td>99.0</td>\n",
       "      <td>99.0</td>\n",
       "      <td>99.0</td>\n",
       "      <td>99.0</td>\n",
       "      <td>99.0</td>\n",
       "      <td>99.0</td>\n",
       "      <td>99.0</td>\n",
       "      <td>99.0</td>\n",
       "      <td>99.0</td>\n",
       "    </tr>\n",
       "    <tr>\n",
       "      <td>1</td>\n",
       "      <td>34</td>\n",
       "      <td>99</td>\n",
       "      <td>99</td>\n",
       "      <td>99</td>\n",
       "      <td>99</td>\n",
       "      <td>-9.68750</td>\n",
       "      <td>99</td>\n",
       "      <td>9.93750</td>\n",
       "      <td>9.53125</td>\n",
       "      <td>99</td>\n",
       "      <td>...</td>\n",
       "      <td>99.0</td>\n",
       "      <td>99.0</td>\n",
       "      <td>99.0</td>\n",
       "      <td>99.0</td>\n",
       "      <td>99.0</td>\n",
       "      <td>99.0</td>\n",
       "      <td>99.0</td>\n",
       "      <td>99.0</td>\n",
       "      <td>99.0</td>\n",
       "      <td>99.0</td>\n",
       "    </tr>\n",
       "    <tr>\n",
       "      <td>2</td>\n",
       "      <td>18</td>\n",
       "      <td>99</td>\n",
       "      <td>99</td>\n",
       "      <td>99</td>\n",
       "      <td>99</td>\n",
       "      <td>-9.84375</td>\n",
       "      <td>99</td>\n",
       "      <td>-9.84375</td>\n",
       "      <td>-7.21875</td>\n",
       "      <td>99</td>\n",
       "      <td>...</td>\n",
       "      <td>99.0</td>\n",
       "      <td>99.0</td>\n",
       "      <td>99.0</td>\n",
       "      <td>99.0</td>\n",
       "      <td>99.0</td>\n",
       "      <td>99.0</td>\n",
       "      <td>99.0</td>\n",
       "      <td>99.0</td>\n",
       "      <td>99.0</td>\n",
       "      <td>99.0</td>\n",
       "    </tr>\n",
       "    <tr>\n",
       "      <td>3</td>\n",
       "      <td>82</td>\n",
       "      <td>99</td>\n",
       "      <td>99</td>\n",
       "      <td>99</td>\n",
       "      <td>99</td>\n",
       "      <td>6.90625</td>\n",
       "      <td>99</td>\n",
       "      <td>4.75000</td>\n",
       "      <td>-5.90625</td>\n",
       "      <td>99</td>\n",
       "      <td>...</td>\n",
       "      <td>99.0</td>\n",
       "      <td>99.0</td>\n",
       "      <td>99.0</td>\n",
       "      <td>99.0</td>\n",
       "      <td>99.0</td>\n",
       "      <td>99.0</td>\n",
       "      <td>99.0</td>\n",
       "      <td>99.0</td>\n",
       "      <td>99.0</td>\n",
       "      <td>99.0</td>\n",
       "    </tr>\n",
       "    <tr>\n",
       "      <td>4</td>\n",
       "      <td>27</td>\n",
       "      <td>99</td>\n",
       "      <td>99</td>\n",
       "      <td>99</td>\n",
       "      <td>99</td>\n",
       "      <td>-0.03125</td>\n",
       "      <td>99</td>\n",
       "      <td>-9.09375</td>\n",
       "      <td>-0.40625</td>\n",
       "      <td>99</td>\n",
       "      <td>...</td>\n",
       "      <td>99.0</td>\n",
       "      <td>99.0</td>\n",
       "      <td>99.0</td>\n",
       "      <td>99.0</td>\n",
       "      <td>99.0</td>\n",
       "      <td>99.0</td>\n",
       "      <td>99.0</td>\n",
       "      <td>99.0</td>\n",
       "      <td>99.0</td>\n",
       "      <td>99.0</td>\n",
       "    </tr>\n",
       "  </tbody>\n",
       "</table>\n",
       "<p>5 rows × 151 columns</p>\n",
       "</div>"
      ],
      "text/plain": [
       "   0    1    2    3    4        5    6        7        8    9    ...   141  \\\n",
       "0   62   99   99   99   99  0.21875   99 -9.28125 -9.28125   99  ...  99.0   \n",
       "1   34   99   99   99   99 -9.68750   99  9.93750  9.53125   99  ...  99.0   \n",
       "2   18   99   99   99   99 -9.84375   99 -9.84375 -7.21875   99  ...  99.0   \n",
       "3   82   99   99   99   99  6.90625   99  4.75000 -5.90625   99  ...  99.0   \n",
       "4   27   99   99   99   99 -0.03125   99 -9.09375 -0.40625   99  ...  99.0   \n",
       "\n",
       "    142   143   144   145   146   147   148   149   150  \n",
       "0  99.0  99.0  99.0  99.0  99.0  99.0  99.0  99.0  99.0  \n",
       "1  99.0  99.0  99.0  99.0  99.0  99.0  99.0  99.0  99.0  \n",
       "2  99.0  99.0  99.0  99.0  99.0  99.0  99.0  99.0  99.0  \n",
       "3  99.0  99.0  99.0  99.0  99.0  99.0  99.0  99.0  99.0  \n",
       "4  99.0  99.0  99.0  99.0  99.0  99.0  99.0  99.0  99.0  \n",
       "\n",
       "[5 rows x 151 columns]"
      ]
     },
     "execution_count": 3,
     "metadata": {},
     "output_type": "execute_result"
    }
   ],
   "source": [
    "df.head()"
   ]
  },
  {
   "cell_type": "markdown",
   "metadata": {},
   "source": [
    "### Joke data"
   ]
  },
  {
   "cell_type": "code",
   "execution_count": 4,
   "metadata": {
    "ExecuteTime": {
     "end_time": "2020-07-20T16:32:10.386182Z",
     "start_time": "2020-07-20T16:32:10.339408Z"
    }
   },
   "outputs": [
    {
     "data": {
      "text/html": [
       "<div>\n",
       "<style scoped>\n",
       "    .dataframe tbody tr th:only-of-type {\n",
       "        vertical-align: middle;\n",
       "    }\n",
       "\n",
       "    .dataframe tbody tr th {\n",
       "        vertical-align: top;\n",
       "    }\n",
       "\n",
       "    .dataframe thead th {\n",
       "        text-align: right;\n",
       "    }\n",
       "</style>\n",
       "<table border=\"1\" class=\"dataframe\">\n",
       "  <thead>\n",
       "    <tr style=\"text-align: right;\">\n",
       "      <th></th>\n",
       "      <th>0</th>\n",
       "      <th>1</th>\n",
       "    </tr>\n",
       "  </thead>\n",
       "  <tbody>\n",
       "    <tr>\n",
       "      <td>0</td>\n",
       "      <td>1:</td>\n",
       "      <td>A man visits the doctor. The doctor says, \"I h...</td>\n",
       "    </tr>\n",
       "    <tr>\n",
       "      <td>1</td>\n",
       "      <td>2:</td>\n",
       "      <td>This couple had an excellent relationship goin...</td>\n",
       "    </tr>\n",
       "    <tr>\n",
       "      <td>2</td>\n",
       "      <td>3:</td>\n",
       "      <td>Q. What's 200 feet long and has 4 teeth? A. Th...</td>\n",
       "    </tr>\n",
       "    <tr>\n",
       "      <td>3</td>\n",
       "      <td>4:</td>\n",
       "      <td>Q. What's the difference between a man and a t...</td>\n",
       "    </tr>\n",
       "    <tr>\n",
       "      <td>4</td>\n",
       "      <td>5:</td>\n",
       "      <td>Q. What's O. J. Simpson's web address? A. Slas...</td>\n",
       "    </tr>\n",
       "  </tbody>\n",
       "</table>\n",
       "</div>"
      ],
      "text/plain": [
       "    0                                                  1\n",
       "0  1:  A man visits the doctor. The doctor says, \"I h...\n",
       "1  2:  This couple had an excellent relationship goin...\n",
       "2  3:  Q. What's 200 feet long and has 4 teeth? A. Th...\n",
       "3  4:  Q. What's the difference between a man and a t...\n",
       "4  5:  Q. What's O. J. Simpson's web address? A. Slas..."
      ]
     },
     "execution_count": 4,
     "metadata": {},
     "output_type": "execute_result"
    }
   ],
   "source": [
    "jokes = pd.read_table('./data/jester_items.tsv', header = None)\n",
    "jokes.head()"
   ]
  },
  {
   "cell_type": "markdown",
   "metadata": {},
   "source": [
    "The 0 column is the join column we need to connect with the user dataframe. \n",
    "\n",
    "In the cell below, we \n",
    "- Remove the ':' character from the `0` column\n",
    "- Convert the column to an integer datatype\n",
    "- Set the `0` column as the index for our jokes table."
   ]
  },
  {
   "cell_type": "code",
   "execution_count": 5,
   "metadata": {},
   "outputs": [],
   "source": [
    "jokes[0] = jokes[0].apply(lambda x: x.replace(':', ''))\n",
    "jokes[0] = jokes[0].astype(int)\n",
    "jokes.set_index(0, inplace=True)"
   ]
  },
  {
   "cell_type": "code",
   "execution_count": 6,
   "metadata": {
    "ExecuteTime": {
     "end_time": "2020-07-20T16:32:42.481804Z",
     "start_time": "2020-07-20T16:32:42.473788Z"
    }
   },
   "outputs": [
    {
     "data": {
      "text/html": [
       "<div>\n",
       "<style scoped>\n",
       "    .dataframe tbody tr th:only-of-type {\n",
       "        vertical-align: middle;\n",
       "    }\n",
       "\n",
       "    .dataframe tbody tr th {\n",
       "        vertical-align: top;\n",
       "    }\n",
       "\n",
       "    .dataframe thead th {\n",
       "        text-align: right;\n",
       "    }\n",
       "</style>\n",
       "<table border=\"1\" class=\"dataframe\">\n",
       "  <thead>\n",
       "    <tr style=\"text-align: right;\">\n",
       "      <th></th>\n",
       "      <th>1</th>\n",
       "    </tr>\n",
       "    <tr>\n",
       "      <th>0</th>\n",
       "      <th></th>\n",
       "    </tr>\n",
       "  </thead>\n",
       "  <tbody>\n",
       "    <tr>\n",
       "      <td>1</td>\n",
       "      <td>A man visits the doctor. The doctor says, \"I h...</td>\n",
       "    </tr>\n",
       "    <tr>\n",
       "      <td>2</td>\n",
       "      <td>This couple had an excellent relationship goin...</td>\n",
       "    </tr>\n",
       "    <tr>\n",
       "      <td>3</td>\n",
       "      <td>Q. What's 200 feet long and has 4 teeth? A. Th...</td>\n",
       "    </tr>\n",
       "    <tr>\n",
       "      <td>4</td>\n",
       "      <td>Q. What's the difference between a man and a t...</td>\n",
       "    </tr>\n",
       "    <tr>\n",
       "      <td>5</td>\n",
       "      <td>Q. What's O. J. Simpson's web address? A. Slas...</td>\n",
       "    </tr>\n",
       "  </tbody>\n",
       "</table>\n",
       "</div>"
      ],
      "text/plain": [
       "                                                   1\n",
       "0                                                   \n",
       "1  A man visits the doctor. The doctor says, \"I h...\n",
       "2  This couple had an excellent relationship goin...\n",
       "3  Q. What's 200 feet long and has 4 teeth? A. Th...\n",
       "4  Q. What's the difference between a man and a t...\n",
       "5  Q. What's O. J. Simpson's web address? A. Slas..."
      ]
     },
     "execution_count": 6,
     "metadata": {},
     "output_type": "execute_result"
    }
   ],
   "source": [
    "jokes.head()"
   ]
  },
  {
   "cell_type": "markdown",
   "metadata": {
    "ExecuteTime": {
     "end_time": "2020-03-06T17:52:25.406789Z",
     "start_time": "2020-03-06T17:52:25.402698Z"
    }
   },
   "source": [
    "We will be creating a basic recommendation system using cosine similarity. \n",
    "\n",
    "Let's quickly review cosine similarity."
   ]
  },
  {
   "cell_type": "markdown",
   "metadata": {},
   "source": [
    "### Cosine similarity"
   ]
  },
  {
   "cell_type": "markdown",
   "metadata": {},
   "source": [
    "Cosine similarty = 1 - cosign distance\n",
    "\n",
    "#### What does cosine similarity measure?\n",
    "- The angle between two vectors\n",
    "    - if cosine(v1, v2) == 0 -> perpendicular\n",
    "    - if cosine(v1, v2) == 1 -> same direction\n",
    "    - if cosine(v1, v2) == -1 -> opposite direction"
   ]
  },
  {
   "cell_type": "markdown",
   "metadata": {},
   "source": [
    "Let's create two vectors and find their cosine distance"
   ]
  },
  {
   "cell_type": "code",
   "execution_count": 7,
   "metadata": {
    "ExecuteTime": {
     "end_time": "2020-07-20T16:33:23.832847Z",
     "start_time": "2020-07-20T16:33:23.798187Z"
    }
   },
   "outputs": [],
   "source": [
    "v1 = np.array([1, 2])\n",
    "v2 = np.array([1, 2.5])\n",
    "\n",
    "distance = cosine_distances(v1.reshape(1, -1), v2.reshape(1, -1))"
   ]
  },
  {
   "cell_type": "markdown",
   "metadata": {},
   "source": [
    "Now, we can subtract the distance from 1 to find the cosine similarity."
   ]
  },
  {
   "cell_type": "code",
   "execution_count": 8,
   "metadata": {
    "ExecuteTime": {
     "end_time": "2020-07-20T16:34:37.317119Z",
     "start_time": "2020-07-20T16:34:37.303141Z"
    }
   },
   "outputs": [
    {
     "data": {
      "text/plain": [
       "array([[0.99654576]])"
      ]
     },
     "execution_count": 8,
     "metadata": {},
     "output_type": "execute_result"
    }
   ],
   "source": [
    "similarity = 1 - distance\n",
    "similarity"
   ]
  },
  {
   "cell_type": "markdown",
   "metadata": {},
   "source": [
    "There is also an function for this that we can use."
   ]
  },
  {
   "cell_type": "code",
   "execution_count": 9,
   "metadata": {
    "ExecuteTime": {
     "end_time": "2020-07-20T16:34:50.984559Z",
     "start_time": "2020-07-20T16:34:50.978465Z"
    }
   },
   "outputs": [
    {
     "data": {
      "text/plain": [
       "array([[0.99654576]])"
      ]
     },
     "execution_count": 9,
     "metadata": {},
     "output_type": "execute_result"
    }
   ],
   "source": [
    "cosine_similarity(v1.reshape(1, -1), v2.reshape(1, -1))"
   ]
  },
  {
   "cell_type": "markdown",
   "metadata": {},
   "source": [
    "# Build a recommender system \n",
    "How do we recommend a joke to userA?\n",
    "- user to user ->\n",
    "    - find users that are similar to userA\n",
    "    - Identify jokes that have been rated highly by those similar users."
   ]
  },
  {
   "cell_type": "markdown",
   "metadata": {},
   "source": [
    "### Let's condition the data for a recommender system\n"
   ]
  },
  {
   "cell_type": "code",
   "execution_count": 10,
   "metadata": {
    "ExecuteTime": {
     "end_time": "2020-07-20T20:47:51.011780Z",
     "start_time": "2020-07-20T20:45:57.339138Z"
    }
   },
   "outputs": [
    {
     "data": {
      "text/plain": [
       "NearestNeighbors(algorithm='auto', leaf_size=30, metric='cosine',\n",
       "                 metric_params=None, n_jobs=-1, n_neighbors=5, p=2, radius=1.0)"
      ]
     },
     "execution_count": 10,
     "metadata": {},
     "output_type": "execute_result"
    }
   ],
   "source": [
    "## User we would like to recommend a joke to\n",
    "user_index = 0\n",
    "\n",
    "## Drop column that totals the numbers of jokes each user has rated. \n",
    "## Isolate the row for the desired user\n",
    "userA = df.drop(0, axis=1).loc[user_index, :]\n",
    "\n",
    "# All other users\n",
    "others = df.drop(0, axis=1).drop(index=user_index, axis=0)\n",
    "\n",
    "\n",
    "# Find the nearest neighbors\n",
    "knn = NearestNeighbors(n_neighbors=5, metric='cosine', n_jobs=-1)\n",
    "knn.fit(others)"
   ]
  },
  {
   "cell_type": "markdown",
   "metadata": {},
   "source": [
    "Great! Now we can use the vector of ratings for userA as an input to our knn model.\n",
    "\n",
    "The knn model returns the distance between userA and the nearest K neighbors as well as their index."
   ]
  },
  {
   "cell_type": "code",
   "execution_count": 11,
   "metadata": {
    "ExecuteTime": {
     "end_time": "2020-07-20T20:48:10.959503Z",
     "start_time": "2020-07-20T20:48:00.676064Z"
    }
   },
   "outputs": [
    {
     "name": "stdout",
     "output_type": "stream",
     "text": [
      "---------------------------------------------------------------------------------------------\n",
      "userA's K nearest neighbor distances: [0.12284198 0.12953529 0.13661332 0.13848128 0.141326  ]\n",
      "---------------------------------------------------------------------------------------------\n",
      "Index for nearest neighbors indices: [228 243 288 302  76]\n",
      "---------------------------------------------------------------------------------------------\n"
     ]
    }
   ],
   "source": [
    "distances, indices = knn.kneighbors(userA.values.reshape(1, -1))\n",
    "distances, indices = distances[0], indices[0]\n",
    "\n",
    "\n",
    "print('---------------------------------------------------------------------------------------------')\n",
    "print(\"userA's K nearest neighbor distances:\", distances) \n",
    "print('---------------------------------------------------------------------------------------------')\n",
    "print(\"Index for nearest neighbors indices:\",indices)\n",
    "print('---------------------------------------------------------------------------------------------')"
   ]
  },
  {
   "cell_type": "markdown",
   "metadata": {},
   "source": [
    "#### Now that we have our most similar users, what's next?"
   ]
  },
  {
   "cell_type": "markdown",
   "metadata": {},
   "source": [
    "#### Find their highest rated items that aren't rated by userA"
   ]
  },
  {
   "cell_type": "code",
   "execution_count": 12,
   "metadata": {
    "ExecuteTime": {
     "end_time": "2020-07-20T16:54:02.753167Z",
     "start_time": "2020-07-20T16:54:02.698597Z"
    }
   },
   "outputs": [],
   "source": [
    "# let's get jokes not rated by userA\n",
    "jokes_not_rated = np.where(userA==99)[0]\n",
    "jokes_not_rated = np.delete(jokes_not_rated, 0)"
   ]
  },
  {
   "cell_type": "markdown",
   "metadata": {},
   "source": [
    "Next we need to isolate the nearest neighbors in our data, and examine their ratings for jokes userA has not rated."
   ]
  },
  {
   "cell_type": "code",
   "execution_count": 13,
   "metadata": {},
   "outputs": [
    {
     "data": {
      "text/html": [
       "<div>\n",
       "<style scoped>\n",
       "    .dataframe tbody tr th:only-of-type {\n",
       "        vertical-align: middle;\n",
       "    }\n",
       "\n",
       "    .dataframe tbody tr th {\n",
       "        vertical-align: top;\n",
       "    }\n",
       "\n",
       "    .dataframe thead th {\n",
       "        text-align: right;\n",
       "    }\n",
       "</style>\n",
       "<table border=\"1\" class=\"dataframe\">\n",
       "  <thead>\n",
       "    <tr style=\"text-align: right;\">\n",
       "      <th></th>\n",
       "      <th>1</th>\n",
       "      <th>2</th>\n",
       "      <th>3</th>\n",
       "      <th>5</th>\n",
       "      <th>8</th>\n",
       "      <th>9</th>\n",
       "      <th>10</th>\n",
       "      <th>11</th>\n",
       "      <th>13</th>\n",
       "      <th>27</th>\n",
       "      <th>...</th>\n",
       "      <th>140</th>\n",
       "      <th>141</th>\n",
       "      <th>142</th>\n",
       "      <th>143</th>\n",
       "      <th>144</th>\n",
       "      <th>145</th>\n",
       "      <th>146</th>\n",
       "      <th>147</th>\n",
       "      <th>148</th>\n",
       "      <th>149</th>\n",
       "    </tr>\n",
       "  </thead>\n",
       "  <tbody>\n",
       "    <tr>\n",
       "      <td>228</td>\n",
       "      <td>99</td>\n",
       "      <td>99</td>\n",
       "      <td>99</td>\n",
       "      <td>-3.65625</td>\n",
       "      <td>-10.00000</td>\n",
       "      <td>99</td>\n",
       "      <td>99</td>\n",
       "      <td>99</td>\n",
       "      <td>-9.87500</td>\n",
       "      <td>99.00000</td>\n",
       "      <td>...</td>\n",
       "      <td>99.0000</td>\n",
       "      <td>99.000</td>\n",
       "      <td>99.0000</td>\n",
       "      <td>99.000</td>\n",
       "      <td>99.0000</td>\n",
       "      <td>99.0000</td>\n",
       "      <td>99.00000</td>\n",
       "      <td>99.000</td>\n",
       "      <td>99.00000</td>\n",
       "      <td>99.000</td>\n",
       "    </tr>\n",
       "    <tr>\n",
       "      <td>243</td>\n",
       "      <td>99</td>\n",
       "      <td>99</td>\n",
       "      <td>99</td>\n",
       "      <td>-9.18750</td>\n",
       "      <td>-6.43750</td>\n",
       "      <td>99</td>\n",
       "      <td>99</td>\n",
       "      <td>99</td>\n",
       "      <td>2.78125</td>\n",
       "      <td>-3.09375</td>\n",
       "      <td>...</td>\n",
       "      <td>-5.1875</td>\n",
       "      <td>-5.375</td>\n",
       "      <td>-4.3125</td>\n",
       "      <td>-4.125</td>\n",
       "      <td>4.5625</td>\n",
       "      <td>-2.9375</td>\n",
       "      <td>-0.53125</td>\n",
       "      <td>-3.875</td>\n",
       "      <td>4.21875</td>\n",
       "      <td>-4.875</td>\n",
       "    </tr>\n",
       "    <tr>\n",
       "      <td>288</td>\n",
       "      <td>99</td>\n",
       "      <td>99</td>\n",
       "      <td>99</td>\n",
       "      <td>-7.00000</td>\n",
       "      <td>3.65625</td>\n",
       "      <td>99</td>\n",
       "      <td>99</td>\n",
       "      <td>99</td>\n",
       "      <td>-6.81250</td>\n",
       "      <td>6.37500</td>\n",
       "      <td>...</td>\n",
       "      <td>99.0000</td>\n",
       "      <td>99.000</td>\n",
       "      <td>99.0000</td>\n",
       "      <td>99.000</td>\n",
       "      <td>99.0000</td>\n",
       "      <td>99.0000</td>\n",
       "      <td>99.00000</td>\n",
       "      <td>99.000</td>\n",
       "      <td>99.00000</td>\n",
       "      <td>99.000</td>\n",
       "    </tr>\n",
       "    <tr>\n",
       "      <td>302</td>\n",
       "      <td>99</td>\n",
       "      <td>99</td>\n",
       "      <td>99</td>\n",
       "      <td>-9.03125</td>\n",
       "      <td>9.56250</td>\n",
       "      <td>99</td>\n",
       "      <td>99</td>\n",
       "      <td>99</td>\n",
       "      <td>-9.43750</td>\n",
       "      <td>-0.37500</td>\n",
       "      <td>...</td>\n",
       "      <td>99.0000</td>\n",
       "      <td>99.000</td>\n",
       "      <td>99.0000</td>\n",
       "      <td>99.000</td>\n",
       "      <td>99.0000</td>\n",
       "      <td>99.0000</td>\n",
       "      <td>99.00000</td>\n",
       "      <td>99.000</td>\n",
       "      <td>99.00000</td>\n",
       "      <td>99.000</td>\n",
       "    </tr>\n",
       "    <tr>\n",
       "      <td>76</td>\n",
       "      <td>99</td>\n",
       "      <td>99</td>\n",
       "      <td>99</td>\n",
       "      <td>3.03125</td>\n",
       "      <td>-6.68750</td>\n",
       "      <td>99</td>\n",
       "      <td>99</td>\n",
       "      <td>99</td>\n",
       "      <td>4.09375</td>\n",
       "      <td>-9.71875</td>\n",
       "      <td>...</td>\n",
       "      <td>99.0000</td>\n",
       "      <td>99.000</td>\n",
       "      <td>99.0000</td>\n",
       "      <td>99.000</td>\n",
       "      <td>99.0000</td>\n",
       "      <td>99.0000</td>\n",
       "      <td>99.00000</td>\n",
       "      <td>99.000</td>\n",
       "      <td>99.00000</td>\n",
       "      <td>99.000</td>\n",
       "    </tr>\n",
       "  </tbody>\n",
       "</table>\n",
       "<p>5 rows × 87 columns</p>\n",
       "</div>"
      ],
      "text/plain": [
       "     1    2    3        5         8    9    10   11       13        27   ...  \\\n",
       "228   99   99   99 -3.65625 -10.00000   99   99   99 -9.87500  99.00000  ...   \n",
       "243   99   99   99 -9.18750  -6.43750   99   99   99  2.78125  -3.09375  ...   \n",
       "288   99   99   99 -7.00000   3.65625   99   99   99 -6.81250   6.37500  ...   \n",
       "302   99   99   99 -9.03125   9.56250   99   99   99 -9.43750  -0.37500  ...   \n",
       "76    99   99   99  3.03125  -6.68750   99   99   99  4.09375  -9.71875  ...   \n",
       "\n",
       "         140     141      142     143      144      145       146     147  \\\n",
       "228  99.0000  99.000  99.0000  99.000  99.0000  99.0000  99.00000  99.000   \n",
       "243  -5.1875  -5.375  -4.3125  -4.125   4.5625  -2.9375  -0.53125  -3.875   \n",
       "288  99.0000  99.000  99.0000  99.000  99.0000  99.0000  99.00000  99.000   \n",
       "302  99.0000  99.000  99.0000  99.000  99.0000  99.0000  99.00000  99.000   \n",
       "76   99.0000  99.000  99.0000  99.000  99.0000  99.0000  99.00000  99.000   \n",
       "\n",
       "          148     149  \n",
       "228  99.00000  99.000  \n",
       "243   4.21875  -4.875  \n",
       "288  99.00000  99.000  \n",
       "302  99.00000  99.000  \n",
       "76   99.00000  99.000  \n",
       "\n",
       "[5 rows x 87 columns]"
      ]
     },
     "execution_count": 13,
     "metadata": {},
     "output_type": "execute_result"
    }
   ],
   "source": [
    "user_jokes = df.drop(0, axis=1).iloc[indices][jokes_not_rated]\n",
    "user_jokes"
   ]
  },
  {
   "cell_type": "markdown",
   "metadata": {},
   "source": [
    "Let's total up the ratings of each joke!\n",
    "\n",
    "To do this, we need to replace 99 values with 0"
   ]
  },
  {
   "cell_type": "code",
   "execution_count": 14,
   "metadata": {
    "ExecuteTime": {
     "end_time": "2020-07-20T16:44:49.970225Z",
     "start_time": "2020-07-20T16:44:49.965085Z"
    }
   },
   "outputs": [],
   "source": [
    "ratings = user_jokes.replace(99, 0).sum()"
   ]
  },
  {
   "cell_type": "markdown",
   "metadata": {},
   "source": [
    "Right now, the user_jokes dataframe has rows set to individual users and jokes set as columns.\n",
    "\n",
    "We want to look at the jokes of each of these users. To do that, let's transform our user_jokes dataframe"
   ]
  },
  {
   "cell_type": "code",
   "execution_count": 15,
   "metadata": {
    "ExecuteTime": {
     "end_time": "2020-07-20T16:45:21.912634Z",
     "start_time": "2020-07-20T16:45:21.902961Z"
    }
   },
   "outputs": [
    {
     "data": {
      "text/html": [
       "<div>\n",
       "<style scoped>\n",
       "    .dataframe tbody tr th:only-of-type {\n",
       "        vertical-align: middle;\n",
       "    }\n",
       "\n",
       "    .dataframe tbody tr th {\n",
       "        vertical-align: top;\n",
       "    }\n",
       "\n",
       "    .dataframe thead th {\n",
       "        text-align: right;\n",
       "    }\n",
       "</style>\n",
       "<table border=\"1\" class=\"dataframe\">\n",
       "  <thead>\n",
       "    <tr style=\"text-align: right;\">\n",
       "      <th></th>\n",
       "      <th>228</th>\n",
       "      <th>243</th>\n",
       "      <th>288</th>\n",
       "      <th>302</th>\n",
       "      <th>76</th>\n",
       "    </tr>\n",
       "  </thead>\n",
       "  <tbody>\n",
       "    <tr>\n",
       "      <td>1</td>\n",
       "      <td>99.00000</td>\n",
       "      <td>99.0000</td>\n",
       "      <td>99.00000</td>\n",
       "      <td>99.00000</td>\n",
       "      <td>99.00000</td>\n",
       "    </tr>\n",
       "    <tr>\n",
       "      <td>2</td>\n",
       "      <td>99.00000</td>\n",
       "      <td>99.0000</td>\n",
       "      <td>99.00000</td>\n",
       "      <td>99.00000</td>\n",
       "      <td>99.00000</td>\n",
       "    </tr>\n",
       "    <tr>\n",
       "      <td>3</td>\n",
       "      <td>99.00000</td>\n",
       "      <td>99.0000</td>\n",
       "      <td>99.00000</td>\n",
       "      <td>99.00000</td>\n",
       "      <td>99.00000</td>\n",
       "    </tr>\n",
       "    <tr>\n",
       "      <td>5</td>\n",
       "      <td>-3.65625</td>\n",
       "      <td>-9.1875</td>\n",
       "      <td>-7.00000</td>\n",
       "      <td>-9.03125</td>\n",
       "      <td>3.03125</td>\n",
       "    </tr>\n",
       "    <tr>\n",
       "      <td>8</td>\n",
       "      <td>-10.00000</td>\n",
       "      <td>-6.4375</td>\n",
       "      <td>3.65625</td>\n",
       "      <td>9.56250</td>\n",
       "      <td>-6.68750</td>\n",
       "    </tr>\n",
       "  </tbody>\n",
       "</table>\n",
       "</div>"
      ],
      "text/plain": [
       "        228      243       288       302       76 \n",
       "1  99.00000  99.0000  99.00000  99.00000  99.00000\n",
       "2  99.00000  99.0000  99.00000  99.00000  99.00000\n",
       "3  99.00000  99.0000  99.00000  99.00000  99.00000\n",
       "5  -3.65625  -9.1875  -7.00000  -9.03125   3.03125\n",
       "8 -10.00000  -6.4375   3.65625   9.56250  -6.68750"
      ]
     },
     "execution_count": 15,
     "metadata": {},
     "output_type": "execute_result"
    }
   ],
   "source": [
    "user_jokes = user_jokes.T\n",
    "\n",
    "user_jokes.head()"
   ]
  },
  {
   "cell_type": "markdown",
   "metadata": {},
   "source": [
    "Great! Now we add the joke ratings as a column to our user_jokes dataframe"
   ]
  },
  {
   "cell_type": "code",
   "execution_count": 16,
   "metadata": {
    "ExecuteTime": {
     "end_time": "2020-07-20T16:45:51.114445Z",
     "start_time": "2020-07-20T16:45:51.101499Z"
    }
   },
   "outputs": [
    {
     "data": {
      "text/html": [
       "<div>\n",
       "<style scoped>\n",
       "    .dataframe tbody tr th:only-of-type {\n",
       "        vertical-align: middle;\n",
       "    }\n",
       "\n",
       "    .dataframe tbody tr th {\n",
       "        vertical-align: top;\n",
       "    }\n",
       "\n",
       "    .dataframe thead th {\n",
       "        text-align: right;\n",
       "    }\n",
       "</style>\n",
       "<table border=\"1\" class=\"dataframe\">\n",
       "  <thead>\n",
       "    <tr style=\"text-align: right;\">\n",
       "      <th></th>\n",
       "      <th>228</th>\n",
       "      <th>243</th>\n",
       "      <th>288</th>\n",
       "      <th>302</th>\n",
       "      <th>76</th>\n",
       "      <th>total</th>\n",
       "    </tr>\n",
       "  </thead>\n",
       "  <tbody>\n",
       "    <tr>\n",
       "      <td>1</td>\n",
       "      <td>99.00000</td>\n",
       "      <td>99.0000</td>\n",
       "      <td>99.00000</td>\n",
       "      <td>99.00000</td>\n",
       "      <td>99.00000</td>\n",
       "      <td>0.00000</td>\n",
       "    </tr>\n",
       "    <tr>\n",
       "      <td>2</td>\n",
       "      <td>99.00000</td>\n",
       "      <td>99.0000</td>\n",
       "      <td>99.00000</td>\n",
       "      <td>99.00000</td>\n",
       "      <td>99.00000</td>\n",
       "      <td>0.00000</td>\n",
       "    </tr>\n",
       "    <tr>\n",
       "      <td>3</td>\n",
       "      <td>99.00000</td>\n",
       "      <td>99.0000</td>\n",
       "      <td>99.00000</td>\n",
       "      <td>99.00000</td>\n",
       "      <td>99.00000</td>\n",
       "      <td>0.00000</td>\n",
       "    </tr>\n",
       "    <tr>\n",
       "      <td>5</td>\n",
       "      <td>-3.65625</td>\n",
       "      <td>-9.1875</td>\n",
       "      <td>-7.00000</td>\n",
       "      <td>-9.03125</td>\n",
       "      <td>3.03125</td>\n",
       "      <td>-25.84375</td>\n",
       "    </tr>\n",
       "    <tr>\n",
       "      <td>8</td>\n",
       "      <td>-10.00000</td>\n",
       "      <td>-6.4375</td>\n",
       "      <td>3.65625</td>\n",
       "      <td>9.56250</td>\n",
       "      <td>-6.68750</td>\n",
       "      <td>-9.90625</td>\n",
       "    </tr>\n",
       "  </tbody>\n",
       "</table>\n",
       "</div>"
      ],
      "text/plain": [
       "        228      243       288       302        76     total\n",
       "1  99.00000  99.0000  99.00000  99.00000  99.00000   0.00000\n",
       "2  99.00000  99.0000  99.00000  99.00000  99.00000   0.00000\n",
       "3  99.00000  99.0000  99.00000  99.00000  99.00000   0.00000\n",
       "5  -3.65625  -9.1875  -7.00000  -9.03125   3.03125 -25.84375\n",
       "8 -10.00000  -6.4375   3.65625   9.56250  -6.68750  -9.90625"
      ]
     },
     "execution_count": 16,
     "metadata": {},
     "output_type": "execute_result"
    }
   ],
   "source": [
    "user_jokes['total'] = ratings\n",
    "user_jokes.head()"
   ]
  },
  {
   "cell_type": "markdown",
   "metadata": {},
   "source": [
    "Using the method .idxmax(), we return the index for the joke with the highest rating!"
   ]
  },
  {
   "cell_type": "code",
   "execution_count": 17,
   "metadata": {
    "ExecuteTime": {
     "end_time": "2020-07-20T16:46:03.472361Z",
     "start_time": "2020-07-20T16:46:03.467132Z"
    }
   },
   "outputs": [
    {
     "data": {
      "text/plain": [
       "32"
      ]
     },
     "execution_count": 17,
     "metadata": {},
     "output_type": "execute_result"
    }
   ],
   "source": [
    "recommend_index = user_jokes['total'].idxmax()\n",
    "recommend_index"
   ]
  },
  {
   "cell_type": "code",
   "execution_count": 18,
   "metadata": {
    "ExecuteTime": {
     "end_time": "2020-07-20T16:46:08.229961Z",
     "start_time": "2020-07-20T16:46:08.217109Z"
    }
   },
   "outputs": [
    {
     "data": {
      "text/html": [
       "<div>\n",
       "<style scoped>\n",
       "    .dataframe tbody tr th:only-of-type {\n",
       "        vertical-align: middle;\n",
       "    }\n",
       "\n",
       "    .dataframe tbody tr th {\n",
       "        vertical-align: top;\n",
       "    }\n",
       "\n",
       "    .dataframe thead th {\n",
       "        text-align: right;\n",
       "    }\n",
       "</style>\n",
       "<table border=\"1\" class=\"dataframe\">\n",
       "  <thead>\n",
       "    <tr style=\"text-align: right;\">\n",
       "      <th></th>\n",
       "      <th>228</th>\n",
       "      <th>243</th>\n",
       "      <th>288</th>\n",
       "      <th>302</th>\n",
       "      <th>76</th>\n",
       "      <th>total</th>\n",
       "    </tr>\n",
       "  </thead>\n",
       "  <tbody>\n",
       "    <tr>\n",
       "      <td>32</td>\n",
       "      <td>99.0</td>\n",
       "      <td>2.31250</td>\n",
       "      <td>7.21875</td>\n",
       "      <td>-0.40625</td>\n",
       "      <td>1.3750</td>\n",
       "      <td>10.50000</td>\n",
       "    </tr>\n",
       "    <tr>\n",
       "      <td>66</td>\n",
       "      <td>99.0</td>\n",
       "      <td>6.40625</td>\n",
       "      <td>99.00000</td>\n",
       "      <td>-0.56250</td>\n",
       "      <td>3.4375</td>\n",
       "      <td>9.28125</td>\n",
       "    </tr>\n",
       "    <tr>\n",
       "      <td>54</td>\n",
       "      <td>99.0</td>\n",
       "      <td>-4.68750</td>\n",
       "      <td>7.12500</td>\n",
       "      <td>99.00000</td>\n",
       "      <td>4.3125</td>\n",
       "      <td>6.75000</td>\n",
       "    </tr>\n",
       "    <tr>\n",
       "      <td>72</td>\n",
       "      <td>99.0</td>\n",
       "      <td>-1.50000</td>\n",
       "      <td>6.00000</td>\n",
       "      <td>-0.40625</td>\n",
       "      <td>2.2500</td>\n",
       "      <td>6.34375</td>\n",
       "    </tr>\n",
       "    <tr>\n",
       "      <td>111</td>\n",
       "      <td>99.0</td>\n",
       "      <td>0.96875</td>\n",
       "      <td>5.12500</td>\n",
       "      <td>99.00000</td>\n",
       "      <td>99.0000</td>\n",
       "      <td>6.09375</td>\n",
       "    </tr>\n",
       "  </tbody>\n",
       "</table>\n",
       "</div>"
      ],
      "text/plain": [
       "      228      243       288       302       76     total\n",
       "32   99.0  2.31250   7.21875  -0.40625   1.3750  10.50000\n",
       "66   99.0  6.40625  99.00000  -0.56250   3.4375   9.28125\n",
       "54   99.0 -4.68750   7.12500  99.00000   4.3125   6.75000\n",
       "72   99.0 -1.50000   6.00000  -0.40625   2.2500   6.34375\n",
       "111  99.0  0.96875   5.12500  99.00000  99.0000   6.09375"
      ]
     },
     "execution_count": 18,
     "metadata": {},
     "output_type": "execute_result"
    }
   ],
   "source": [
    "# checking our work\n",
    "user_jokes.sort_values(by='total', ascending=False).head()"
   ]
  },
  {
   "cell_type": "markdown",
   "metadata": {},
   "source": [
    "Now all we have to do is plug in the index to our jokes dataframe, and return the recommended joke!"
   ]
  },
  {
   "cell_type": "code",
   "execution_count": 19,
   "metadata": {
    "ExecuteTime": {
     "end_time": "2020-07-20T16:46:27.110864Z",
     "start_time": "2020-07-20T16:46:27.106379Z"
    }
   },
   "outputs": [
    {
     "data": {
      "text/plain": [
       "'What do you call an American in the finals of the world cup? \"Hey beer man!\"'"
      ]
     },
     "execution_count": 19,
     "metadata": {},
     "output_type": "execute_result"
    }
   ],
   "source": [
    "jokes.iloc[recommend_index][1]"
   ]
  },
  {
   "cell_type": "markdown",
   "metadata": {},
   "source": [
    "# We did it!"
   ]
  },
  {
   "cell_type": "markdown",
   "metadata": {},
   "source": [
    "### Assignment"
   ]
  },
  {
   "cell_type": "markdown",
   "metadata": {},
   "source": [
    "Please create a function called `recommend_joke` that will receive a user index and returns a recommended joke."
   ]
  },
  {
   "cell_type": "code",
   "execution_count": 20,
   "metadata": {
    "ExecuteTime": {
     "end_time": "2020-03-06T18:46:58.800361Z",
     "start_time": "2020-03-06T18:46:58.790754Z"
    }
   },
   "outputs": [],
   "source": [
    "def recommendation_data():\n",
    "    df = pd.read_csv('./data/jesterfinal151cols.csv', header=None)\n",
    "    df = df.fillna(99)\n",
    "    jokes = pd.read_table('./data/jester_items.tsv', header = None)\n",
    "    jokes[0] = jokes[0].apply(lambda x: x.replace(':', ''))\n",
    "    jokes[0] = jokes[0].astype(int)\n",
    "    jokes.set_index(0, inplace=True)\n",
    "    \n",
    "    return df, jokes\n",
    "\n",
    "def userA_and_others(user_index, df):\n",
    "    ## Drop column that counts the numbers of jokes each user has rated. \n",
    "    ## Isolate the row for the desired user\n",
    "    userA = df.drop(0, axis=1)\\\n",
    "          .loc[user_index, :]\n",
    "    \n",
    "    # Isolate all other users\n",
    "    others = df.drop(0, axis=1).drop(index=user_index, axis=0)\n",
    "    \n",
    "    return userA, others\n",
    "\n",
    "def nearest_neighbors(userA, others):\n",
    "    # Fit Nearest Neighbors\n",
    "    knn = NearestNeighbors(n_neighbors=5, metric='cosine', n_jobs=-1)\n",
    "    knn.fit(others)\n",
    "    \n",
    "    distances, indices = knn.kneighbors(userA.values.reshape(1, -1))\n",
    "    distances, indices = distances[0], indices[0] \n",
    "    \n",
    "    return distances, indices\n",
    "\n",
    "def find_joke(df, neighbor_indices, jokes_not_rated):\n",
    "    \n",
    "    user_jokes = df.drop(0, axis=1).iloc[neighbor_indices][jokes_not_rated]\n",
    "    ratings = user_jokes.replace(99, 0).sum()\n",
    "    user_jokes = user_jokes.T\n",
    "    user_jokes['total'] = ratings\n",
    "    recommend_index = user_jokes['total'].idxmax()\n",
    "    return jokes.iloc[recommend_index][1]    \n",
    "\n",
    "def recommend_joke(user_index):\n",
    "    \n",
    "    df, jokes = recommendation_data()\n",
    "\n",
    "    userA, others = userA_and_others(user_index, df)\n",
    "\n",
    "    distances, neighbor_indices = nearest_neighbors(userA, others)\n",
    "\n",
    "    \n",
    "    jokes_not_rated = np.where(userA==99)[0]\n",
    "    jokes_not_rated = np.delete(jokes_not_rated, 0)\n",
    "    \n",
    "    return find_joke(df, neighbor_indices, jokes_not_rated)"
   ]
  },
  {
   "cell_type": "markdown",
   "metadata": {},
   "source": [
    "Now we can recommend a joke to any user in the dataset!"
   ]
  },
  {
   "cell_type": "code",
   "execution_count": 21,
   "metadata": {
    "ExecuteTime": {
     "end_time": "2020-07-20T21:12:23.635035Z",
     "start_time": "2020-07-20T21:12:22.664931Z"
    }
   },
   "outputs": [
    {
     "data": {
      "text/plain": [
       "\"Q: How many programmers does it take to change a lightbulb? A: NONE! That's a hardware problem...\""
      ]
     },
     "execution_count": 21,
     "metadata": {},
     "output_type": "execute_result"
    }
   ],
   "source": [
    "recommend_joke(400)"
   ]
  },
  {
   "cell_type": "markdown",
   "metadata": {},
   "source": [
    "Let's see what the highest rated joke is for User 400."
   ]
  },
  {
   "cell_type": "code",
   "execution_count": 22,
   "metadata": {},
   "outputs": [
    {
     "name": "stdout",
     "output_type": "stream",
     "text": [
      "A country guy goes into a city bar that has a dress code, and the maitre d' demands he wear a tie. Discouraged, the guy goes to his car to sulk when inspiration strikes: He's got jumper cables in the trunk! So he wraps them around his neck, sort of like a string tie (a bulky string tie to be sure) and returns to the bar. The maitre d' is reluctant, but says to the guy, \"Okay, you're a pretty resourceful fellow, you can come in... but just don't start anything!\"\n"
     ]
    }
   ],
   "source": [
    "highest_rated_joke_index = df.iloc[400].replace(99,0).drop(0).idxmax()\n",
    "print(jokes.iloc[highest_rated_joke_index].values[0])"
   ]
  },
  {
   "cell_type": "code",
   "execution_count": null,
   "metadata": {},
   "outputs": [],
   "source": []
  }
 ],
 "metadata": {
  "hide_input": false,
  "kernelspec": {
   "display_name": "Python 3",
   "language": "python",
   "name": "python3"
  },
  "language_info": {
   "codemirror_mode": {
    "name": "ipython",
    "version": 3
   },
   "file_extension": ".py",
   "mimetype": "text/x-python",
   "name": "python",
   "nbconvert_exporter": "python",
   "pygments_lexer": "ipython3",
   "version": "3.7.4"
  },
  "toc": {
   "base_numbering": 1,
   "nav_menu": {},
   "number_sections": true,
   "sideBar": true,
   "skip_h1_title": false,
   "title_cell": "Table of Contents",
   "title_sidebar": "Contents",
   "toc_cell": false,
   "toc_position": {},
   "toc_section_display": true,
   "toc_window_display": false
  },
  "varInspector": {
   "cols": {
    "lenName": 16,
    "lenType": 16,
    "lenVar": 40
   },
   "kernels_config": {
    "python": {
     "delete_cmd_postfix": "",
     "delete_cmd_prefix": "del ",
     "library": "var_list.py",
     "varRefreshCmd": "print(var_dic_list())"
    },
    "r": {
     "delete_cmd_postfix": ") ",
     "delete_cmd_prefix": "rm(",
     "library": "var_list.r",
     "varRefreshCmd": "cat(var_dic_list()) "
    }
   },
   "types_to_exclude": [
    "module",
    "function",
    "builtin_function_or_method",
    "instance",
    "_Feature"
   ],
   "window_display": false
  }
 },
 "nbformat": 4,
 "nbformat_minor": 4
}
